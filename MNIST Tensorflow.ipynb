{
 "cells": [
  {
   "cell_type": "markdown",
   "metadata": {},
   "source": [
    "### Import the libraries"
   ]
  },
  {
   "cell_type": "code",
   "execution_count": 5,
   "metadata": {},
   "outputs": [],
   "source": [
    "import numpy as np\n",
    "import tensorflow as tf\n",
    "import tensorflow_datasets as tfds"
   ]
  },
  {
   "cell_type": "markdown",
   "metadata": {},
   "source": [
    "### Load the dataset"
   ]
  },
  {
   "cell_type": "code",
   "execution_count": 10,
   "metadata": {},
   "outputs": [],
   "source": [
    "mnist_dataset, mnist_info=tfds.load(name='mnist', as_supervised=True, with_info=True) # As supervised loads the data in a two\n",
    "# tuple structure(inputs and targets). With info provides a tuple containing info about version, features and \n",
    "# the number of samples in the dataset"
   ]
  },
  {
   "cell_type": "markdown",
   "metadata": {},
   "source": [
    "### Preprocess the Data"
   ]
  },
  {
   "cell_type": "code",
   "execution_count": null,
   "metadata": {},
   "outputs": [],
   "source": [
    "mnist_train, mnist_test = mnist_dataset['train'], mnist_dataset['test'] # We define the train and test datasets. \n",
    "# The MNIST dataset does not come with validation samples so we have to do a split. \n",
    "\n",
    "# We take 10 percent of the training dataset as our validation samples\n",
    "mnist_validation_samples = 0.1 * mnist_info.splits['train'].num_examples\n",
    "\n",
    "# The computation above could result in a number of samples with decimal places which isn't ideal, so we cast the data\n",
    "mnist_validation_samples = tf.cast(mnist_validation_samples, tf.int64)\n",
    "\n",
    "# We do the same for the test data as we would need this later\n",
    "mnist_test_samples = mnist_info.splits['test'].num_examples\n",
    "mnist_test_samples = tf.cast(mnist_test_samples, tf.int64)\n",
    "\n",
    "# To ensure our result is numerically stable, we scale the data set to have inputs between 0 and 1\n",
    "\n",
    "def scale(image, label):\n",
    "    image = tf.cast(image, tf.float32) # To ensure the values are in float as we will be scaling\n",
    "    image /= 255.0 # Dividing by 255 will keep all values between 0 and 1\n",
    "    return image, label\n",
    "\n",
    "scaled_train_validation = mnist_train.map(scale) # This transforms the dataset using the scale function created above\n",
    "scaled_test_data = mnist_test.map(scale) # Same process for the test dataset as we want the test data to have the \n",
    "# same magnitude as that of the training and validation data\n",
    "\n",
    "# We shuffle the dataset\n",
    "\n",
    "BUFFER_SIZE = 10000 # We create a buffer size in order to optimize the computer's memory. This buffer will be used to\n",
    "# shuffle 10000 samples per time\n",
    "\n",
    "shuffled_scaled_train_validation = scaled_train_validation.shuffle(BUFFER_SIZE)\n",
    "\n",
    "# We can now split the dataset into training and validation dataset\n",
    "\n",
    "validation_data = shuffled_scaled_train_validation.take(mnist_validation_samples) # Takes 10 percent of the shuffled\n",
    "# data as the validation data\n",
    "training_data = shuffled_scaled_train_validation.skip(mnist_validation_samples) # Skip as many samples as we have in\n",
    "# our validation data\n",
    "\n",
    "# We apply a mini-batch gradient descent with a batch size of 100\n",
    "# The validation data doesn't need to be batched as we don't need to update the weights and biases(backward propagation)\n",
    "# The inputs from the validation data are only pushed through the net(forward propagation), hence we do create mini\n",
    "# batches for our validation data\n",
    "\n",
    "BATCH_SIZE = 100\n",
    "training_data = training_data.batch(BATCH_SIZE)\n",
    "\n",
    "\n",
    "# Since our model expects our validation and test data in batch form too, we also batch the data but all the data goes in \n",
    "# a single batch\n",
    "\n",
    "validation_data = validation_data.batch(mnist_validation_samples)\n",
    "test_data = scaled_test_data.batch(mnist_test_samples) # Test data also goes in a single batch\n",
    "\n",
    "# We create an iterable and load the next batch using the next object\n",
    "validation_inputs, validation_targets = next(iter(validation_data))"
   ]
  }
 ],
 "metadata": {
  "kernelspec": {
   "display_name": "Python 3",
   "language": "python",
   "name": "python3"
  },
  "language_info": {
   "codemirror_mode": {
    "name": "ipython",
    "version": 3
   },
   "file_extension": ".py",
   "mimetype": "text/x-python",
   "name": "python",
   "nbconvert_exporter": "python",
   "pygments_lexer": "ipython3",
   "version": "3.7.3"
  }
 },
 "nbformat": 4,
 "nbformat_minor": 2
}
